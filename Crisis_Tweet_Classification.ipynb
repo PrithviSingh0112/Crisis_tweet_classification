{
  "metadata": {
    "kernelspec": {
      "language": "python",
      "display_name": "Python 3",
      "name": "python3"
    },
    "language_info": {
      "pygments_lexer": "ipython3",
      "nbconvert_exporter": "python",
      "version": "3.6.4",
      "file_extension": ".py",
      "codemirror_mode": {
        "name": "ipython",
        "version": 3
      },
      "name": "python",
      "mimetype": "text/x-python"
    },
    "colab": {
      "name": "[CNN+LSTM] Disaster Tweet Classification ",
      "provenance": []
    }
  },
  "nbformat_minor": 0,
  "nbformat": 4,
  "cells": [
    {
      "cell_type": "code",
      "source": [
        "# This Python 3 environment comes with many helpful analytics libraries installed\n",
        "# It is defined by the kaggle/python Docker image: https://github.com/kaggle/docker-python\n",
        "# For example, here's several helpful packages to load\n",
        "\n",
        "import numpy as np # linear algebra\n",
        "import pandas as pd # data processing, CSV file I/O (e.g. pd.read_csv)\n",
        "\n",
        "# Input data files are available in the read-only \"../input/\" directory\n",
        "# For example, running this (by clicking run or pressing Shift+Enter) will list all files under the input directory\n",
        "\n",
        "from tqdm import tqdm\n",
        "import tensorflow as tf\n",
        "from tensorflow.keras.callbacks import ModelCheckpoint, EarlyStopping\n",
        "from tensorflow.keras.preprocessing import sequence\n",
        "from tensorflow.keras.preprocessing.text import Tokenizer\n",
        "from tensorflow.keras.regularizers import l2, l1_l2\n",
        "\n",
        "from tensorflow.keras import layers\n",
        "from tensorflow.keras.models import Sequential\n",
        "\n",
        "from sklearn.model_selection import train_test_split\n",
        "\n",
        "import matplotlib.pyplot as plt\n",
        "import os\n",
        "for dirname, _, filenames in os.walk('/kaggle/input'):\n",
        "    for filename in filenames:\n",
        "        print(os.path.join(dirname, filename))\n",
        "\n",
        "# You can write up to 20GB to the current directory (/kaggle/working/) that gets preserved as output when you create a version using \"Save & Run All\"\n",
        "# You can also write temporary files to /kaggle/temp/, but they won't be saved outside of the current session"
      ],
      "metadata": {
        "execution": {
          "iopub.status.busy": "2022-04-03T06:25:07.92611Z",
          "iopub.execute_input": "2022-04-03T06:25:07.926467Z",
          "iopub.status.idle": "2022-04-03T06:25:09.900049Z",
          "shell.execute_reply.started": "2022-04-03T06:25:07.926339Z",
          "shell.execute_reply": "2022-04-03T06:25:09.898546Z"
        },
        "trusted": true,
        "id": "4Os2N9jNWkKr"
      },
      "execution_count": null,
      "outputs": []
    },
    {
      "cell_type": "code",
      "source": [
        "train_df = pd.read_csv('/kaggle/input/nlp-getting-started/train.csv')\n",
        "test_df = pd.read_csv('/kaggle/input/nlp-getting-started/test.csv')"
      ],
      "metadata": {
        "execution": {
          "iopub.status.busy": "2022-04-03T06:25:09.901676Z",
          "iopub.execute_input": "2022-04-03T06:25:09.902481Z",
          "iopub.status.idle": "2022-04-03T06:25:09.940718Z",
          "shell.execute_reply.started": "2022-04-03T06:25:09.90244Z",
          "shell.execute_reply": "2022-04-03T06:25:09.940031Z"
        },
        "trusted": true,
        "id": "0klZKdiqWkKu"
      },
      "execution_count": null,
      "outputs": []
    },
    {
      "cell_type": "code",
      "source": [
        "train_df = train_df.fillna(\"NA\")\n",
        "test_df = test_df.fillna(\"NA\")"
      ],
      "metadata": {
        "execution": {
          "iopub.status.busy": "2022-04-03T06:25:09.943408Z",
          "iopub.execute_input": "2022-04-03T06:25:09.943616Z",
          "iopub.status.idle": "2022-04-03T06:25:09.95291Z",
          "shell.execute_reply.started": "2022-04-03T06:25:09.943591Z",
          "shell.execute_reply": "2022-04-03T06:25:09.952147Z"
        },
        "trusted": true,
        "id": "IV2VTlG5WkKu"
      },
      "execution_count": null,
      "outputs": []
    },
    {
      "cell_type": "code",
      "source": [
        "train_df.head(n=3)"
      ],
      "metadata": {
        "execution": {
          "iopub.status.busy": "2022-04-03T06:25:09.956277Z",
          "iopub.execute_input": "2022-04-03T06:25:09.957934Z",
          "iopub.status.idle": "2022-04-03T06:25:09.971433Z",
          "shell.execute_reply.started": "2022-04-03T06:25:09.957906Z",
          "shell.execute_reply": "2022-04-03T06:25:09.970689Z"
        },
        "trusted": true,
        "id": "Et-BrXFRWkKv"
      },
      "execution_count": null,
      "outputs": []
    },
    {
      "cell_type": "code",
      "source": [
        "train_texts = list(train_df['text'])\n",
        "test_texts = list(test_df['text'])\n",
        "\n",
        "targets = list(train_df['target'])"
      ],
      "metadata": {
        "execution": {
          "iopub.status.busy": "2022-04-03T06:25:09.972586Z",
          "iopub.execute_input": "2022-04-03T06:25:09.972904Z",
          "iopub.status.idle": "2022-04-03T06:25:09.981154Z",
          "shell.execute_reply.started": "2022-04-03T06:25:09.972849Z",
          "shell.execute_reply": "2022-04-03T06:25:09.98034Z"
        },
        "trusted": true,
        "id": "wqaLxPJWWkKv"
      },
      "execution_count": null,
      "outputs": []
    },
    {
      "cell_type": "code",
      "source": [
        "print(f\"Number of tweets in train set : {len(train_df)}\")\n",
        "print(f\"Number of tweets in test set : {len(test_df)}\")\n",
        "print()\n",
        "print(f\"Number of train tweets which have a target of 1: {len(train_df[train_df['target'] == 1])}\")\n",
        "print(f\"Number of train tweets which have a target of 0: {len(train_df[train_df['target'] == 0])}\")"
      ],
      "metadata": {
        "execution": {
          "iopub.status.busy": "2022-04-03T06:25:09.982177Z",
          "iopub.execute_input": "2022-04-03T06:25:09.982585Z",
          "iopub.status.idle": "2022-04-03T06:25:09.996498Z",
          "shell.execute_reply.started": "2022-04-03T06:25:09.982539Z",
          "shell.execute_reply": "2022-04-03T06:25:09.99581Z"
        },
        "trusted": true,
        "id": "tRFV1EWIWkKw"
      },
      "execution_count": null,
      "outputs": []
    },
    {
      "cell_type": "markdown",
      "source": [
        "#### There is no major class imbalance in train set. Tweets with target of '0' are 57% of total train set. Tweets with target of '1' are 43% of total train set."
      ],
      "metadata": {
        "id": "n3RCXvbKWkKw"
      }
    },
    {
      "cell_type": "code",
      "source": [
        "for tweet in train_df['text'].head(5):\n",
        "    print(tweet)"
      ],
      "metadata": {
        "execution": {
          "iopub.status.busy": "2022-04-03T06:25:09.997662Z",
          "iopub.execute_input": "2022-04-03T06:25:09.998039Z",
          "iopub.status.idle": "2022-04-03T06:25:10.005554Z",
          "shell.execute_reply.started": "2022-04-03T06:25:09.998002Z",
          "shell.execute_reply": "2022-04-03T06:25:10.004822Z"
        },
        "trusted": true,
        "id": "dzOmIBsFWkKx"
      },
      "execution_count": null,
      "outputs": []
    },
    {
      "cell_type": "markdown",
      "source": [
        "#### The texts however are not clean. They contain special characters, quotes, commas etc. We need to clean the text before converting it to a sequence of integers. Following preprocessing functions will do the same."
      ],
      "metadata": {
        "id": "_sYs_V8TWkKx"
      }
    },
    {
      "cell_type": "markdown",
      "source": [
        "## Preprocessing functions"
      ],
      "metadata": {
        "id": "KDTNqEd_WkKy"
      }
    },
    {
      "cell_type": "code",
      "source": [
        "import re\n",
        "import string\n",
        "from nltk.corpus import stopwords\n",
        "\n",
        "\n",
        "def strip_and_lowercase(lines):\n",
        "    \"\"\" Removing extra spaces at the end, beginning, or in the middle of a sentence \"\"\"\n",
        "    for i in range(len(lines)):\n",
        "        lines[i] = lines[i].strip()\n",
        "        lines[i] = ' '.join(lines[i].split())\n",
        "        lines[i] = lines[i].lower()\n",
        "    return lines\n",
        "\n",
        "\n",
        "def expand_words(lines):\n",
        "    \"\"\" Expanding words \"\"\"\n",
        "    expansion_dict = {\"ain't\": \"are not\", \"'s\": \" is\", \"aren't\": \"are not\", \"don't\": \"do not\",\n",
        "                      \"didn't\": \"did not\", \"won't\": \"will not\",\n",
        "                      \"can't\": \"cannot\"}\n",
        "\n",
        "    for i in range(len(lines)):\n",
        "        words = lines[i].split()\n",
        "        for j in range(len(words)):\n",
        "            if words[j] in expansion_dict:\n",
        "                words[j] = expansion_dict[words[j]]\n",
        "        lines[i] = ' '.join(words)\n",
        "    return lines\n",
        "\n",
        "\n",
        "def remove_punctuations(lines):\n",
        "    \"\"\" Removing punctuations \"\"\"\n",
        "    for i in range(len(lines)):\n",
        "        lines[i] = lines[i].translate(str.maketrans('', '', string.punctuation))\n",
        "    return lines\n",
        "\n",
        "\n",
        "def remove_stopwords(lines):\n",
        "    \"\"\" Removing stopwords \"\"\"\n",
        "    stop_words = set(stopwords.words('english'))\n",
        "\n",
        "    for i in range(len(lines)):\n",
        "        lines[i] = \" \".join([word for word in lines[i].split() if word not in stop_words])\n",
        "    return lines\n",
        "\n",
        "\n",
        "def remove_special_chars(lines):\n",
        "    \"\"\" Removing special characters \"\"\"\n",
        "    for i in range(len(lines)):\n",
        "        lines[i] = re.sub('[-+.^:,]', '', lines[i])\n",
        "    return lines\n",
        "\n",
        "\n",
        "def remove_emojis(lines):\n",
        "    \"\"\" Removing emojis \"\"\"\n",
        "    emojis = re.compile(\"[\"\n",
        "                        u\"\\U0001F600-\\U0001F64F\"  # emoticons\n",
        "                        u\"\\U0001F300-\\U0001F5FF\"  # symbols & pictographs\n",
        "                        u\"\\U0001F680-\\U0001F6FF\"  # transport & map symbols\n",
        "                        u\"\\U0001F1E0-\\U0001F1FF\"  # flags (iOS)\n",
        "                        u\"\\U00002500-\\U00002BEF\"  # chinese char\n",
        "                        u\"\\U00002702-\\U000027B0\"\n",
        "                        u\"\\U00002702-\\U000027B0\"\n",
        "                        u\"\\U000024C2-\\U0001F251\"\n",
        "                        u\"\\U0001f926-\\U0001f937\"\n",
        "                        u\"\\U00010000-\\U0010ffff\"\n",
        "                        u\"\\u2640-\\u2642\"\n",
        "                        u\"\\u2600-\\u2B55\"\n",
        "                        u\"\\u200d\"\n",
        "                        u\"\\u23cf\"\n",
        "                        u\"\\u23e9\"\n",
        "                        u\"\\u231a\"\n",
        "                        u\"\\ufe0f\"  # dingbats\n",
        "                        u\"\\u3030\"\n",
        "                        \"]+\", re.UNICODE)\n",
        "\n",
        "    for i in range(len(lines)):\n",
        "        lines[i] = re.sub(emojis, '', lines[i])\n",
        "    return lines"
      ],
      "metadata": {
        "execution": {
          "iopub.status.busy": "2022-04-03T06:28:25.537661Z",
          "iopub.execute_input": "2022-04-03T06:28:25.538013Z",
          "iopub.status.idle": "2022-04-03T06:28:25.553604Z",
          "shell.execute_reply.started": "2022-04-03T06:28:25.537978Z",
          "shell.execute_reply": "2022-04-03T06:28:25.552831Z"
        },
        "trusted": true,
        "id": "b3d1hVX4WkKy"
      },
      "execution_count": null,
      "outputs": []
    },
    {
      "cell_type": "code",
      "source": [
        "def preprocess(texts):\n",
        "    texts = strip_and_lowercase(texts)\n",
        "    texts = expand_words(texts)\n",
        "    texts = remove_punctuations(texts)\n",
        "    texts = remove_stopwords(texts)\n",
        "    texts = remove_special_chars(texts)\n",
        "    texts = remove_emojis(texts)\n",
        "    return texts"
      ],
      "metadata": {
        "execution": {
          "iopub.status.busy": "2022-04-03T06:28:25.6752Z",
          "iopub.execute_input": "2022-04-03T06:28:25.675418Z",
          "iopub.status.idle": "2022-04-03T06:28:25.680461Z",
          "shell.execute_reply.started": "2022-04-03T06:28:25.675392Z",
          "shell.execute_reply": "2022-04-03T06:28:25.679804Z"
        },
        "trusted": true,
        "id": "QZ-dhuTkWkKy"
      },
      "execution_count": null,
      "outputs": []
    },
    {
      "cell_type": "code",
      "source": [
        "# Clean train and text tweets\n",
        "train_texts = preprocess(train_texts)\n",
        "test_texts = preprocess(test_texts)"
      ],
      "metadata": {
        "execution": {
          "iopub.status.busy": "2022-04-03T06:28:25.87671Z",
          "iopub.execute_input": "2022-04-03T06:28:25.877204Z",
          "iopub.status.idle": "2022-04-03T06:28:26.110067Z",
          "shell.execute_reply.started": "2022-04-03T06:28:25.877169Z",
          "shell.execute_reply": "2022-04-03T06:28:26.109385Z"
        },
        "trusted": true,
        "id": "rJCwPGNzWkKy"
      },
      "execution_count": null,
      "outputs": []
    },
    {
      "cell_type": "code",
      "source": [
        "TOP_K = 2000\n",
        "MAX_SEQUENCE_LENGTH = max(len(max(train_texts, key=len)), len(max(test_texts, key=len)))\n",
        "batch_size = 256"
      ],
      "metadata": {
        "execution": {
          "iopub.status.busy": "2022-04-03T06:28:26.111426Z",
          "iopub.execute_input": "2022-04-03T06:28:26.111675Z",
          "iopub.status.idle": "2022-04-03T06:28:26.116979Z",
          "shell.execute_reply.started": "2022-04-03T06:28:26.111642Z",
          "shell.execute_reply": "2022-04-03T06:28:26.116303Z"
        },
        "trusted": true,
        "id": "ftc4ZXa_WkKz"
      },
      "execution_count": null,
      "outputs": []
    },
    {
      "cell_type": "markdown",
      "source": [
        "### Converting texts to sequence of integers using keras tokenizer"
      ],
      "metadata": {
        "execution": {
          "iopub.status.busy": "2022-04-02T14:35:37.593515Z",
          "iopub.execute_input": "2022-04-02T14:35:37.594145Z",
          "iopub.status.idle": "2022-04-02T14:35:37.599044Z",
          "shell.execute_reply.started": "2022-04-02T14:35:37.594109Z",
          "shell.execute_reply": "2022-04-02T14:35:37.598353Z"
        },
        "id": "oQu5I8aFWkKz"
      }
    },
    {
      "cell_type": "code",
      "source": [
        "tokenizer = Tokenizer(num_words=TOP_K)\n",
        "tokenizer.fit_on_texts(train_texts)\n",
        "X = tokenizer.texts_to_sequences(train_texts)\n",
        "X = sequence.pad_sequences(X, maxlen=MAX_SEQUENCE_LENGTH)\n",
        "y = np.array(targets)"
      ],
      "metadata": {
        "execution": {
          "iopub.status.busy": "2022-04-03T06:28:26.370443Z",
          "iopub.execute_input": "2022-04-03T06:28:26.370793Z",
          "iopub.status.idle": "2022-04-03T06:28:26.649071Z",
          "shell.execute_reply.started": "2022-04-03T06:28:26.370765Z",
          "shell.execute_reply": "2022-04-03T06:28:26.648305Z"
        },
        "trusted": true,
        "id": "c-j7jIaqWkKz"
      },
      "execution_count": null,
      "outputs": []
    },
    {
      "cell_type": "code",
      "source": [
        "# splitting data into train and test\n",
        "\n",
        "X_train, X_val, y_train, y_val = train_test_split(X, y, test_size=0.1, random_state=1)"
      ],
      "metadata": {
        "execution": {
          "iopub.status.busy": "2022-04-03T06:28:26.65042Z",
          "iopub.execute_input": "2022-04-03T06:28:26.650662Z",
          "iopub.status.idle": "2022-04-03T06:28:26.660082Z",
          "shell.execute_reply.started": "2022-04-03T06:28:26.650627Z",
          "shell.execute_reply": "2022-04-03T06:28:26.659257Z"
        },
        "trusted": true,
        "id": "r4NVcNxOWkKz"
      },
      "execution_count": null,
      "outputs": []
    },
    {
      "cell_type": "code",
      "source": [
        "# Function to create a tf data object\n",
        "\n",
        "def input_fn(X: np.ndarray, y: np.ndarray, batch_size: int,  mode: str = 'eval'):\n",
        "    dataset = tf.data.Dataset.from_tensor_slices((X, y))\n",
        "\n",
        "    if mode == 'train':\n",
        "        dataset = dataset.shuffle(buffer_size=batch_size)\n",
        "        dataset = dataset.repeat()\n",
        "\n",
        "    dataset = dataset.batch(batch_size=batch_size)\n",
        "    dataset = dataset.prefetch(buffer_size=batch_size)\n",
        "    return dataset"
      ],
      "metadata": {
        "execution": {
          "iopub.status.busy": "2022-04-03T06:28:26.703992Z",
          "iopub.execute_input": "2022-04-03T06:28:26.704188Z",
          "iopub.status.idle": "2022-04-03T06:28:26.709444Z",
          "shell.execute_reply.started": "2022-04-03T06:28:26.704164Z",
          "shell.execute_reply": "2022-04-03T06:28:26.708669Z"
        },
        "trusted": true,
        "id": "XmyAZ2Y6WkKz"
      },
      "execution_count": null,
      "outputs": []
    },
    {
      "cell_type": "code",
      "source": [
        "train_dataset = input_fn(X=X_train, y=y_train, batch_size=batch_size, mode='train')\n",
        "val_dataset = input_fn(X=X_val, y=y_val, batch_size=batch_size, mode='eval')"
      ],
      "metadata": {
        "execution": {
          "iopub.status.busy": "2022-04-03T06:28:27.098204Z",
          "iopub.execute_input": "2022-04-03T06:28:27.098906Z",
          "iopub.status.idle": "2022-04-03T06:28:27.111174Z",
          "shell.execute_reply.started": "2022-04-03T06:28:27.098859Z",
          "shell.execute_reply": "2022-04-03T06:28:27.110326Z"
        },
        "trusted": true,
        "id": "ls6ifPk4WkKz"
      },
      "execution_count": null,
      "outputs": []
    },
    {
      "cell_type": "code",
      "source": [
        "num_features = min(len(tokenizer.word_index) + 1, TOP_K)"
      ],
      "metadata": {
        "execution": {
          "iopub.status.busy": "2022-04-03T06:28:27.550717Z",
          "iopub.execute_input": "2022-04-03T06:28:27.551287Z",
          "iopub.status.idle": "2022-04-03T06:28:27.555101Z",
          "shell.execute_reply.started": "2022-04-03T06:28:27.551249Z",
          "shell.execute_reply": "2022-04-03T06:28:27.554359Z"
        },
        "trusted": true,
        "id": "m5ho2mczWkKz"
      },
      "execution_count": null,
      "outputs": []
    },
    {
      "cell_type": "code",
      "source": [
        "cp_callback = ModelCheckpoint(filepath='disaster_tweet_classification.hdf5',\n",
        "                                          monitor='val_accuracy',\n",
        "                                          save_freq='epoch', verbose=1, period=1,\n",
        "                                          save_best_only=True, save_weights_only=True)\n",
        "\n",
        "early_stopping = EarlyStopping(monitor='val_accuracy',\n",
        "                               verbose=1, patience=5)"
      ],
      "metadata": {
        "execution": {
          "iopub.status.busy": "2022-04-03T06:28:27.97507Z",
          "iopub.execute_input": "2022-04-03T06:28:27.975805Z",
          "iopub.status.idle": "2022-04-03T06:28:27.982514Z",
          "shell.execute_reply.started": "2022-04-03T06:28:27.975741Z",
          "shell.execute_reply": "2022-04-03T06:28:27.981648Z"
        },
        "trusted": true,
        "id": "fasLgKK0WkK0"
      },
      "execution_count": null,
      "outputs": []
    },
    {
      "cell_type": "markdown",
      "source": [
        "### We will use a hybrid model which has both convolution and LSTM layers"
      ],
      "metadata": {
        "id": "F56L5YPGWkK0"
      }
    },
    {
      "cell_type": "code",
      "source": [
        "def build_hybrid_model():\n",
        "    model = Sequential()\n",
        "    model.add(layers.InputLayer(input_shape=(MAX_SEQUENCE_LENGTH,), name=\"input\"))\n",
        "    model.add(layers.Embedding(input_dim=num_features,\n",
        "                               output_dim=150,\n",
        "                               input_length=MAX_SEQUENCE_LENGTH))\n",
        "    model.add(layers.Conv1D(filters=32, kernel_size=3, padding='same', activation='relu', kernel_regularizer=l2(0.01), bias_regularizer=l2(0.01)))\n",
        "    model.add(layers.MaxPooling1D(pool_size=2))\n",
        "    model.add(layers.LSTM(64, recurrent_dropout=0.5, kernel_regularizer=l2(0.01), recurrent_regularizer=l2(0.01), bias_regularizer=l2(0.01)))\n",
        "    model.add(layers.Dense(1, activation='sigmoid'))\n",
        "\n",
        "    optimizer = tf.keras.optimizers.Adam(learning_rate=0.001)\n",
        "    model.compile(optimizer='adam',\n",
        "                  loss='binary_crossentropy',\n",
        "                  metrics=[\"accuracy\"])\n",
        "    return model"
      ],
      "metadata": {
        "execution": {
          "iopub.status.busy": "2022-04-03T06:28:28.660327Z",
          "iopub.execute_input": "2022-04-03T06:28:28.660904Z",
          "iopub.status.idle": "2022-04-03T06:28:28.671361Z",
          "shell.execute_reply.started": "2022-04-03T06:28:28.660854Z",
          "shell.execute_reply": "2022-04-03T06:28:28.670714Z"
        },
        "trusted": true,
        "id": "qrqXoCY_WkK0"
      },
      "execution_count": null,
      "outputs": []
    },
    {
      "cell_type": "code",
      "source": [
        "model = build_hybrid_model()\n",
        "steps_per_epoch = int(y_train.size / batch_size)*1.5\n",
        "history = model.fit(\n",
        "    train_dataset,\n",
        "    validation_data=val_dataset,\n",
        "    epochs=10,\n",
        "    steps_per_epoch=steps_per_epoch,\n",
        "    callbacks=[cp_callback, early_stopping])"
      ],
      "metadata": {
        "execution": {
          "iopub.status.busy": "2022-04-03T06:28:29.15817Z",
          "iopub.execute_input": "2022-04-03T06:28:29.158595Z",
          "iopub.status.idle": "2022-04-03T06:29:54.802933Z",
          "shell.execute_reply.started": "2022-04-03T06:28:29.15856Z",
          "shell.execute_reply": "2022-04-03T06:29:54.802228Z"
        },
        "trusted": true,
        "id": "gGL5eVl7WkK0"
      },
      "execution_count": null,
      "outputs": []
    },
    {
      "cell_type": "code",
      "source": [
        "plt.plot(history.history['loss'], label='train_loss')\n",
        "plt.plot(history.history['val_loss'], label='val_loss')\n",
        "plt.legend()\n",
        "plt.show()"
      ],
      "metadata": {
        "execution": {
          "iopub.status.busy": "2022-04-03T06:30:37.792268Z",
          "iopub.execute_input": "2022-04-03T06:30:37.792536Z",
          "iopub.status.idle": "2022-04-03T06:30:37.985401Z",
          "shell.execute_reply.started": "2022-04-03T06:30:37.792506Z",
          "shell.execute_reply": "2022-04-03T06:30:37.984679Z"
        },
        "trusted": true,
        "id": "_blDJBNWWkK0"
      },
      "execution_count": null,
      "outputs": []
    },
    {
      "cell_type": "code",
      "source": [
        "plt.plot(history.history['accuracy'], label='train_accuracy')\n",
        "plt.plot(history.history['val_accuracy'], label='val_accuracy')\n",
        "plt.legend()\n",
        "plt.show()"
      ],
      "metadata": {
        "execution": {
          "iopub.status.busy": "2022-04-03T06:30:37.986986Z",
          "iopub.execute_input": "2022-04-03T06:30:37.987239Z",
          "iopub.status.idle": "2022-04-03T06:30:38.179361Z",
          "shell.execute_reply.started": "2022-04-03T06:30:37.987204Z",
          "shell.execute_reply": "2022-04-03T06:30:38.178616Z"
        },
        "trusted": true,
        "id": "m-93OvmeWkK0"
      },
      "execution_count": null,
      "outputs": []
    },
    {
      "cell_type": "code",
      "source": [
        "model = build_hybrid_model()\n",
        "model.load_weights('disaster_tweet_classification.hdf5')"
      ],
      "metadata": {
        "execution": {
          "iopub.status.busy": "2022-04-03T06:30:41.503021Z",
          "iopub.execute_input": "2022-04-03T06:30:41.503686Z",
          "iopub.status.idle": "2022-04-03T06:30:41.638864Z",
          "shell.execute_reply.started": "2022-04-03T06:30:41.503648Z",
          "shell.execute_reply": "2022-04-03T06:30:41.638142Z"
        },
        "trusted": true,
        "id": "oO8_JCA6WkK0"
      },
      "execution_count": null,
      "outputs": []
    },
    {
      "cell_type": "code",
      "source": [
        "test_df = pd.read_csv('/kaggle/input/nlp-getting-started/test.csv')"
      ],
      "metadata": {
        "execution": {
          "iopub.status.busy": "2022-04-03T06:30:42.781618Z",
          "iopub.execute_input": "2022-04-03T06:30:42.782161Z",
          "iopub.status.idle": "2022-04-03T06:30:42.799387Z",
          "shell.execute_reply.started": "2022-04-03T06:30:42.78212Z",
          "shell.execute_reply": "2022-04-03T06:30:42.798679Z"
        },
        "trusted": true,
        "id": "rG58hsYzWkK0"
      },
      "execution_count": null,
      "outputs": []
    },
    {
      "cell_type": "code",
      "source": [
        "test_df.head()"
      ],
      "metadata": {
        "execution": {
          "iopub.status.busy": "2022-04-03T06:30:43.383205Z",
          "iopub.execute_input": "2022-04-03T06:30:43.383458Z",
          "iopub.status.idle": "2022-04-03T06:30:43.393467Z",
          "shell.execute_reply.started": "2022-04-03T06:30:43.38343Z",
          "shell.execute_reply": "2022-04-03T06:30:43.392667Z"
        },
        "trusted": true,
        "id": "qV_9125-WkK0"
      },
      "execution_count": null,
      "outputs": []
    },
    {
      "cell_type": "code",
      "source": [
        "lines = tokenizer.texts_to_sequences(test_texts)\n",
        "lines = sequence.pad_sequences(lines, maxlen=MAX_SEQUENCE_LENGTH)"
      ],
      "metadata": {
        "execution": {
          "iopub.status.busy": "2022-04-03T06:30:43.637851Z",
          "iopub.execute_input": "2022-04-03T06:30:43.638363Z",
          "iopub.status.idle": "2022-04-03T06:30:43.702978Z",
          "shell.execute_reply.started": "2022-04-03T06:30:43.638323Z",
          "shell.execute_reply": "2022-04-03T06:30:43.702262Z"
        },
        "trusted": true,
        "id": "6agqKF5TWkK1"
      },
      "execution_count": null,
      "outputs": []
    },
    {
      "cell_type": "code",
      "source": [
        "def predict(review: np.ndarray):\n",
        "    result = model.predict(np.array([review]))\n",
        "    result = result[0][0]\n",
        "    if result > 0.5:\n",
        "        return 1\n",
        "    else:\n",
        "        return 0"
      ],
      "metadata": {
        "execution": {
          "iopub.status.busy": "2022-04-03T06:30:45.446076Z",
          "iopub.execute_input": "2022-04-03T06:30:45.447327Z",
          "iopub.status.idle": "2022-04-03T06:30:45.454512Z",
          "shell.execute_reply.started": "2022-04-03T06:30:45.44725Z",
          "shell.execute_reply": "2022-04-03T06:30:45.453347Z"
        },
        "trusted": true,
        "id": "s9dNgVs_WkK1"
      },
      "execution_count": null,
      "outputs": []
    },
    {
      "cell_type": "code",
      "source": [
        "result_dict = {'id': list(test_df['id']), 'target': []}"
      ],
      "metadata": {
        "execution": {
          "iopub.status.busy": "2022-04-03T06:30:47.046802Z",
          "iopub.execute_input": "2022-04-03T06:30:47.047449Z",
          "iopub.status.idle": "2022-04-03T06:30:47.052523Z",
          "shell.execute_reply.started": "2022-04-03T06:30:47.047406Z",
          "shell.execute_reply": "2022-04-03T06:30:47.051504Z"
        },
        "trusted": true,
        "id": "oWP8UJ70WkK1"
      },
      "execution_count": null,
      "outputs": []
    },
    {
      "cell_type": "code",
      "source": [
        "for line in tqdm(lines, desc=\"Predicting\"):\n",
        "    result_dict['target'].append(predict(line))"
      ],
      "metadata": {
        "execution": {
          "iopub.status.busy": "2022-04-03T06:30:47.284542Z",
          "iopub.execute_input": "2022-04-03T06:30:47.285111Z",
          "iopub.status.idle": "2022-04-03T06:33:34.429197Z",
          "shell.execute_reply.started": "2022-04-03T06:30:47.285072Z",
          "shell.execute_reply": "2022-04-03T06:33:34.428369Z"
        },
        "trusted": true,
        "id": "CYRcB9qcWkK1"
      },
      "execution_count": null,
      "outputs": []
    },
    {
      "cell_type": "code",
      "source": [
        "result_df = pd.DataFrame(result_dict)"
      ],
      "metadata": {
        "execution": {
          "iopub.status.busy": "2022-04-03T06:33:53.028671Z",
          "iopub.execute_input": "2022-04-03T06:33:53.029242Z",
          "iopub.status.idle": "2022-04-03T06:33:53.035638Z",
          "shell.execute_reply.started": "2022-04-03T06:33:53.029203Z",
          "shell.execute_reply": "2022-04-03T06:33:53.034975Z"
        },
        "trusted": true,
        "id": "hR3wiH2vWkK1"
      },
      "execution_count": null,
      "outputs": []
    },
    {
      "cell_type": "code",
      "source": [
        "result_df.head(n=5)"
      ],
      "metadata": {
        "execution": {
          "iopub.status.busy": "2022-04-03T06:33:53.20458Z",
          "iopub.execute_input": "2022-04-03T06:33:53.205181Z",
          "iopub.status.idle": "2022-04-03T06:33:53.214655Z",
          "shell.execute_reply.started": "2022-04-03T06:33:53.205143Z",
          "shell.execute_reply": "2022-04-03T06:33:53.213713Z"
        },
        "trusted": true,
        "id": "x32oAayGWkK1"
      },
      "execution_count": null,
      "outputs": []
    },
    {
      "cell_type": "code",
      "source": [
        "result_df.to_csv('submission.csv', index=False)"
      ],
      "metadata": {
        "execution": {
          "iopub.status.busy": "2022-04-03T06:34:11.66757Z",
          "iopub.execute_input": "2022-04-03T06:34:11.667845Z",
          "iopub.status.idle": "2022-04-03T06:34:11.679648Z",
          "shell.execute_reply.started": "2022-04-03T06:34:11.667816Z",
          "shell.execute_reply": "2022-04-03T06:34:11.678817Z"
        },
        "trusted": true,
        "id": "2I3dFyA-WkK1"
      },
      "execution_count": null,
      "outputs": []
    },
    {
      "cell_type": "code",
      "source": [],
      "metadata": {
        "id": "Mov_R2hCWkK2"
      },
      "execution_count": null,
      "outputs": []
    }
  ]
}